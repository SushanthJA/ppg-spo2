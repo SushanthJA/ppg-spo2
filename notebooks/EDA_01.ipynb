{
 "cells": [
  {
   "cell_type": "markdown",
   "id": "8fee4883-ff31-4648-8bba-e3988570f3c3",
   "metadata": {},
   "source": [
    "# PPG Feature Extraction and SpO2 Estimation"
   ]
  },
  {
   "cell_type": "markdown",
   "id": "da085133-5ad0-4f45-a8df-d9f49bd71c63",
   "metadata": {},
   "source": [
    "### Data Dictionary\n",
    "\n",
    "* **`ecg`**: 3-lead ECG captured at 500Hz\n",
    "* **`peaks`**: CSV ONLY, annotated in WFDB. The annotated ECG R peak (1 = peak, 0 = no peak)\n",
    "* **`pleth_1`**: MAX30101 red wavelength PPG from the distal phalanx (first segment) of the left index finger palmar side (arbitrary units, 500Hz)\n",
    "* **`pleth_2`**: MAX30101 infrared wavelength PPG from the distal phalanx (first segment) of the left index finger palmar side (arbitrary units, 500Hz)\n",
    "* **`pleth_3`**: MAX30101 green wavelength PPG from the distal phalanx (first segment) of the left index finger palmar side (arbitrary units, 500Hz)\n",
    "* **`pleth_4`**: MAX30101 red wavelength PPG from the proximal phalanx (base segment) of the left index finger palmar side (arbitrary units, 500Hz)\n",
    "* **`pleth_5`**: MAX30101 infrared wavelength PPG from the proximal phalanx (base segment) of the left index finger palmar side (arbitrary units, 500Hz)\n",
    "* **`pleth_6`**: MAX30101 green wavelength PPG from the proximal phalanx (base segment) of the left index finger palmar side (arbitrary units, 500Hz)\n",
    "* **`lc_1`**: TAL221 load cell proximal phalanx (first segment) PPG sensor attachment pressure (arbitrary units, 80Hz)\n",
    "* **`lc_2`**: TAL221 load cell (base segment) PPG sensor attachment pressure (arbitrary units, 80Hz)\n",
    "* **`temp_1`**: distal phalanx (first segment) PPG sensor temperature (°C, 10Hz)\n",
    "* **`temp_2`**: proximal phalanx (base segment) PPG sensor temperature in (°C, 10Hz)\n",
    "* **`temp_3`**: InvenSenseMPU-9250 IMU temperature (°C, 500Hz)\n",
    "* **`a_x`**: InvenSenseMPU-9250 IMU acceleration in x-direction (g, 500Hz)\n",
    "* **`a_y`**: InvenSenseMPU-9250 IMU acceleration in y-direction (g, 500Hz)\n",
    "* **`a_z`**: InvenSenseMPU-9250 IMU acceleration in z-direction (g, 500Hz)\n",
    "* **`g_x`**: InvenSenseMPU-9250 IMU angular velocity around x-axis (°/s, 500Hz)\n",
    "* **`g_y`**: InvenSenseMPU-9250 IMU angular velocity around y-axis (°/s, 500Hz)\n",
    "* **`g_z`**: InvenSenseMPU-9250 IMU angular velocity around z-axis (°/s, 500Hz)\n",
    "* Each CSV record includes a **`time`** column that was date shifted to de-indentify participants."
   ]
  },
  {
   "cell_type": "markdown",
   "id": "98fb526f-3233-4405-b339-dabfbcd1ae9a",
   "metadata": {},
   "source": [
    "## 1. PPG Signal Processing and Identifying Beats"
   ]
  },
  {
   "cell_type": "code",
   "execution_count": 7,
   "id": "719d6ed4-b4d5-41ec-90b9-818a914b237e",
   "metadata": {},
   "outputs": [],
   "source": [
    "# Imports\n",
    "\n",
    "import pandas as pd\n",
    "import numpy as np\n",
    "import matplotlib.pyplot as plt\n",
    "from scipy.signal import butter, filtfilt, find_peaks\n",
    "from scipy.ndimage import gaussian_filter1d"
   ]
  },
  {
   "cell_type": "code",
   "execution_count": 8,
   "id": "40525ded-73f8-4b89-aec4-217ee09a6ddb",
   "metadata": {},
   "outputs": [
    {
     "data": {
      "text/html": [
       "<div>\n",
       "<style scoped>\n",
       "    .dataframe tbody tr th:only-of-type {\n",
       "        vertical-align: middle;\n",
       "    }\n",
       "\n",
       "    .dataframe tbody tr th {\n",
       "        vertical-align: top;\n",
       "    }\n",
       "\n",
       "    .dataframe thead th {\n",
       "        text-align: right;\n",
       "    }\n",
       "</style>\n",
       "<table border=\"1\" class=\"dataframe\">\n",
       "  <thead>\n",
       "    <tr style=\"text-align: right;\">\n",
       "      <th></th>\n",
       "      <th>time</th>\n",
       "      <th>ecg</th>\n",
       "      <th>peaks</th>\n",
       "      <th>pleth_1</th>\n",
       "      <th>pleth_2</th>\n",
       "      <th>pleth_3</th>\n",
       "      <th>pleth_4</th>\n",
       "      <th>pleth_5</th>\n",
       "      <th>pleth_6</th>\n",
       "      <th>lc_1</th>\n",
       "      <th>lc_2</th>\n",
       "      <th>temp_1</th>\n",
       "      <th>temp_2</th>\n",
       "      <th>temp_3</th>\n",
       "      <th>a_x</th>\n",
       "      <th>a_y</th>\n",
       "      <th>a_z</th>\n",
       "      <th>g_x</th>\n",
       "      <th>g_y</th>\n",
       "      <th>g_z</th>\n",
       "    </tr>\n",
       "  </thead>\n",
       "  <tbody>\n",
       "    <tr>\n",
       "      <th>0</th>\n",
       "      <td>2021-01-01 18:33:22.232127</td>\n",
       "      <td>31978</td>\n",
       "      <td>0</td>\n",
       "      <td>83324</td>\n",
       "      <td>87262</td>\n",
       "      <td>6070</td>\n",
       "      <td>85787</td>\n",
       "      <td>99285</td>\n",
       "      <td>7017</td>\n",
       "      <td>5864032</td>\n",
       "      <td>5405674</td>\n",
       "      <td>28.5</td>\n",
       "      <td>30.13</td>\n",
       "      <td>30.264084</td>\n",
       "      <td>1.264203</td>\n",
       "      <td>0.071231</td>\n",
       "      <td>-10.321930</td>\n",
       "      <td>-0.508413</td>\n",
       "      <td>0.666570</td>\n",
       "      <td>-0.076496</td>\n",
       "    </tr>\n",
       "    <tr>\n",
       "      <th>1</th>\n",
       "      <td>2021-01-01 18:33:22.234127</td>\n",
       "      <td>32078</td>\n",
       "      <td>0</td>\n",
       "      <td>83324</td>\n",
       "      <td>87262</td>\n",
       "      <td>6070</td>\n",
       "      <td>85794</td>\n",
       "      <td>99281</td>\n",
       "      <td>7022</td>\n",
       "      <td>5864032</td>\n",
       "      <td>5405674</td>\n",
       "      <td>28.5</td>\n",
       "      <td>30.13</td>\n",
       "      <td>30.261089</td>\n",
       "      <td>1.104382</td>\n",
       "      <td>0.015563</td>\n",
       "      <td>-10.315345</td>\n",
       "      <td>-0.503886</td>\n",
       "      <td>0.708649</td>\n",
       "      <td>-0.057321</td>\n",
       "    </tr>\n",
       "    <tr>\n",
       "      <th>2</th>\n",
       "      <td>2021-01-01 18:33:22.236127</td>\n",
       "      <td>32148</td>\n",
       "      <td>0</td>\n",
       "      <td>83324</td>\n",
       "      <td>87277</td>\n",
       "      <td>6063</td>\n",
       "      <td>85782</td>\n",
       "      <td>99269</td>\n",
       "      <td>7015</td>\n",
       "      <td>5864032</td>\n",
       "      <td>5405674</td>\n",
       "      <td>28.5</td>\n",
       "      <td>30.13</td>\n",
       "      <td>30.264084</td>\n",
       "      <td>0.997834</td>\n",
       "      <td>0.074224</td>\n",
       "      <td>-10.381189</td>\n",
       "      <td>-0.494298</td>\n",
       "      <td>0.740873</td>\n",
       "      <td>-0.042407</td>\n",
       "    </tr>\n",
       "    <tr>\n",
       "      <th>3</th>\n",
       "      <td>2021-01-01 18:33:22.238127</td>\n",
       "      <td>32257</td>\n",
       "      <td>0</td>\n",
       "      <td>83319</td>\n",
       "      <td>87281</td>\n",
       "      <td>6070</td>\n",
       "      <td>85782</td>\n",
       "      <td>99269</td>\n",
       "      <td>7015</td>\n",
       "      <td>5857118</td>\n",
       "      <td>5405173</td>\n",
       "      <td>28.5</td>\n",
       "      <td>30.13</td>\n",
       "      <td>30.270075</td>\n",
       "      <td>0.921216</td>\n",
       "      <td>0.175983</td>\n",
       "      <td>-10.502102</td>\n",
       "      <td>-0.484178</td>\n",
       "      <td>0.758317</td>\n",
       "      <td>-0.034152</td>\n",
       "    </tr>\n",
       "    <tr>\n",
       "      <th>4</th>\n",
       "      <td>2021-01-01 18:33:22.240127</td>\n",
       "      <td>32380</td>\n",
       "      <td>0</td>\n",
       "      <td>83314</td>\n",
       "      <td>87258</td>\n",
       "      <td>6073</td>\n",
       "      <td>85787</td>\n",
       "      <td>99281</td>\n",
       "      <td>7015</td>\n",
       "      <td>5857118</td>\n",
       "      <td>5405173</td>\n",
       "      <td>28.5</td>\n",
       "      <td>30.13</td>\n",
       "      <td>30.264084</td>\n",
       "      <td>0.830232</td>\n",
       "      <td>0.268763</td>\n",
       "      <td>-10.652945</td>\n",
       "      <td>-0.475256</td>\n",
       "      <td>0.762046</td>\n",
       "      <td>-0.032687</td>\n",
       "    </tr>\n",
       "  </tbody>\n",
       "</table>\n",
       "</div>"
      ],
      "text/plain": [
       "                         time    ecg  peaks  pleth_1  pleth_2  pleth_3  \\\n",
       "0  2021-01-01 18:33:22.232127  31978      0    83324    87262     6070   \n",
       "1  2021-01-01 18:33:22.234127  32078      0    83324    87262     6070   \n",
       "2  2021-01-01 18:33:22.236127  32148      0    83324    87277     6063   \n",
       "3  2021-01-01 18:33:22.238127  32257      0    83319    87281     6070   \n",
       "4  2021-01-01 18:33:22.240127  32380      0    83314    87258     6073   \n",
       "\n",
       "   pleth_4  pleth_5  pleth_6     lc_1     lc_2  temp_1  temp_2     temp_3  \\\n",
       "0    85787    99285     7017  5864032  5405674    28.5   30.13  30.264084   \n",
       "1    85794    99281     7022  5864032  5405674    28.5   30.13  30.261089   \n",
       "2    85782    99269     7015  5864032  5405674    28.5   30.13  30.264084   \n",
       "3    85782    99269     7015  5857118  5405173    28.5   30.13  30.270075   \n",
       "4    85787    99281     7015  5857118  5405173    28.5   30.13  30.264084   \n",
       "\n",
       "        a_x       a_y        a_z       g_x       g_y       g_z  \n",
       "0  1.264203  0.071231 -10.321930 -0.508413  0.666570 -0.076496  \n",
       "1  1.104382  0.015563 -10.315345 -0.503886  0.708649 -0.057321  \n",
       "2  0.997834  0.074224 -10.381189 -0.494298  0.740873 -0.042407  \n",
       "3  0.921216  0.175983 -10.502102 -0.484178  0.758317 -0.034152  \n",
       "4  0.830232  0.268763 -10.652945 -0.475256  0.762046 -0.032687  "
      ]
     },
     "execution_count": 8,
     "metadata": {},
     "output_type": "execute_result"
    }
   ],
   "source": [
    "# Loading and exploring the data\n",
    "\n",
    "df = pd.read_csv(\"pulse-transit-time-ppg/csv/s1_run.csv\")\n",
    "df.head()"
   ]
  },
  {
   "cell_type": "code",
   "execution_count": 16,
   "id": "d83cae5c-82f0-4be3-bbe8-fff06835a8e5",
   "metadata": {},
   "outputs": [
    {
     "data": {
      "text/plain": [
       "peaks\n",
       "0    244615\n",
       "1       659\n",
       "Name: count, dtype: int64"
      ]
     },
     "execution_count": 16,
     "metadata": {},
     "output_type": "execute_result"
    }
   ],
   "source": [
    "df[\"peaks\"].value_counts()"
   ]
  },
  {
   "cell_type": "markdown",
   "id": "6ba2c8a7-c078-4dd1-801d-e9d691314a4f",
   "metadata": {},
   "source": [
    "**Q. Why consider only `pleth_1` and `pleth_2` for SpO2 estimation?**\n",
    "\n",
    "SpO2 is estimated from a photoplethysmograph (PPG) signal by comparing the absorption of **red** and **infrared** light by the blood, as oxygenated and deoxygenated hemoglobin absorb these wavelengths differently. This comparison is used to calculate the ratio of AC (pulsatile) to DC (non-pulsatile) components of the PPG signal from both light wavelengths, which is then used in an empirical equation to determine the SpO2 level.\n",
    "\n",
    "`pleth_1` & `pleth_2` (distal, fingertip):\n",
    "* Usually stronger pulsatile signals (more blood perfusion at fingertip).\n",
    "* Commonly used in commercial pulse oximeters.\n",
    "* Better for clean SpO₂ estimation.\n",
    "\n",
    "`pleth_4` & `pleth_5` (proximal, finger base):\n",
    "* Signals can be weaker or noisier because perfusion is lower compared to fingertip.\n",
    "* Still useful for redundancy, or if fingertip signals are noisy.\n",
    "* Could be used to test robustness of the model across sensor placements."
   ]
  },
  {
   "cell_type": "code",
   "execution_count": 21,
   "id": "0988ba80-314d-4be7-83be-9a7af301ad9e",
   "metadata": {},
   "outputs": [
    {
     "data": {
      "text/plain": [
       "(82057, 83391)"
      ]
     },
     "execution_count": 21,
     "metadata": {},
     "output_type": "execute_result"
    }
   ],
   "source": [
    "df[\"pleth_1\"].min(), df[\"pleth_1\"].max()"
   ]
  },
  {
   "cell_type": "code",
   "execution_count": 38,
   "id": "c31122c5-1f6d-4ebf-a62d-f22b45684c52",
   "metadata": {},
   "outputs": [
    {
     "name": "stdout",
     "output_type": "stream",
     "text": [
      "Found 67 recording CSVs. Example [WindowsPath('data/csv/s10_run.csv'), WindowsPath('data/csv/s10_sit.csv'), WindowsPath('data/csv/s10_walk.csv'), WindowsPath('data/csv/s11_run.csv'), WindowsPath('data/csv/s11_sit.csv')]\n",
      "\n",
      "\n",
      "Metadata columns: ['record', 'activity', 'gender', 'height', 'weight', 'age', 'bp_sys_start', 'bp_sys_end', 'bp_dia_start', 'bp_dia_end', 'hr_1_start', 'hr_1_end', 'hr_2_start', 'hr_2_end', 'spo2_start', 'spo2_end']\n",
      "Figure(1000x400)\n"
     ]
    }
   ],
   "source": [
    "!python \"src/load_data.py\""
   ]
  },
  {
   "cell_type": "code",
   "execution_count": 36,
   "id": "530cb03e-d6a7-4a36-82c5-05d3eb43cf8d",
   "metadata": {},
   "outputs": [],
   "source": [
    "%matplotlib inline"
   ]
  },
  {
   "cell_type": "code",
   "execution_count": 39,
   "id": "fce45a3a-d231-4819-99e1-ae3263955799",
   "metadata": {},
   "outputs": [
    {
     "ename": "NameError",
     "evalue": "name 'recs' is not defined",
     "output_type": "error",
     "traceback": [
      "\u001b[1;31m---------------------------------------------------------------------------\u001b[0m",
      "\u001b[1;31mNameError\u001b[0m                                 Traceback (most recent call last)",
      "Cell \u001b[1;32mIn[39], line 6\u001b[0m\n\u001b[0;32m      4\u001b[0m plt\u001b[38;5;241m.\u001b[39mplot(t\u001b[38;5;241m.\u001b[39miloc[:\u001b[38;5;241m2500\u001b[39m], df[\u001b[38;5;124m'\u001b[39m\u001b[38;5;124mpleth_1\u001b[39m\u001b[38;5;124m'\u001b[39m]\u001b[38;5;241m.\u001b[39miloc[:\u001b[38;5;241m2500\u001b[39m], label\u001b[38;5;241m=\u001b[39m\u001b[38;5;124m'\u001b[39m\u001b[38;5;124mpleth_1 (red)\u001b[39m\u001b[38;5;124m'\u001b[39m)\n\u001b[0;32m      5\u001b[0m plt\u001b[38;5;241m.\u001b[39mplot(t\u001b[38;5;241m.\u001b[39miloc[:\u001b[38;5;241m2500\u001b[39m], df[\u001b[38;5;124m'\u001b[39m\u001b[38;5;124mpleth_2\u001b[39m\u001b[38;5;124m'\u001b[39m]\u001b[38;5;241m.\u001b[39miloc[:\u001b[38;5;241m2500\u001b[39m], label\u001b[38;5;241m=\u001b[39m\u001b[38;5;124m'\u001b[39m\u001b[38;5;124mpleth_2 (ir)\u001b[39m\u001b[38;5;124m'\u001b[39m)\n\u001b[1;32m----> 6\u001b[0m plt\u001b[38;5;241m.\u001b[39mlegend(); plt\u001b[38;5;241m.\u001b[39mxlabel(\u001b[38;5;124m'\u001b[39m\u001b[38;5;124mseconds\u001b[39m\u001b[38;5;124m'\u001b[39m); plt\u001b[38;5;241m.\u001b[39mtitle(recs[\u001b[38;5;241m0\u001b[39m]\u001b[38;5;241m.\u001b[39mname)\n\u001b[0;32m      7\u001b[0m plt\u001b[38;5;241m.\u001b[39mshow()\n",
      "\u001b[1;31mNameError\u001b[0m: name 'recs' is not defined"
     ]
    },
    {
     "data": {
      "image/png": "[encoded data removed]",
      "text/plain": [
       "<Figure size 1000x400 with 1 Axes>"
      ]
     },
     "metadata": {},
     "output_type": "display_data"
    }
   ],
   "source": [
    "\n",
    "# quick plot first 5 seconds\n",
    "plt.figure(figsize=(10,4))\n",
    "t = (pd.to_datetime(df['time']) - pd.to_datetime(df['time']).iloc[0]).dt.total_seconds()\n",
    "plt.plot(t.iloc[:2500], df['pleth_1'].iloc[:2500], label='pleth_1 (red)')\n",
    "plt.plot(t.iloc[:2500], df['pleth_2'].iloc[:2500], label='pleth_2 (ir)')\n",
    "plt.legend(); plt.xlabel('seconds'); plt.title(recs[0].name)\n",
    "plt.show()"
   ]
  },
  {
   "cell_type": "code",
   "execution_count": null,
   "id": "0cec9c62-ba0c-46bd-a80a-93efc2fb1411",
   "metadata": {},
   "outputs": [],
   "source": []
  }
 ],
 "metadata": {
  "kernelspec": {
   "display_name": "Python 3 (ipykernel)",
   "language": "python",
   "name": "python3"
  },
  "language_info": {
   "codemirror_mode": {
    "name": "ipython",
    "version": 3
   },
   "file_extension": ".py",
   "mimetype": "text/x-python",
   "name": "python",
   "nbconvert_exporter": "python",
   "pygments_lexer": "ipython3",
   "version": "3.11.8"
  }
 },
 "nbformat": 4,
 "nbformat_minor": 5
}
