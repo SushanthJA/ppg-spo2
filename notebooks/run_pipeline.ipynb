{
 "cells": [
  {
   "cell_type": "markdown",
   "id": "c1bceb9e-e19d-4bf5-8877-f64b8b44ee2f",
   "metadata": {},
   "source": [
    "# This notebook is for running the manual pipeline\n",
    "This generates new csv files for each subject's activity csv files consisting of features extracted from them and spo2 calculations made."
   ]
  },
  {
   "cell_type": "code",
   "execution_count": null,
   "id": "1fc498d4-a932-42ad-ba44-5b97184f542a",
   "metadata": {},
   "outputs": [],
   "source": [
    "import sys\n",
    "sys.path.append(\"../src\")"
   ]
  },
  {
   "cell_type": "code",
   "execution_count": null,
   "id": "3fa57955-9a67-47be-b984-f05b47eed710",
   "metadata": {},
   "outputs": [],
   "source": [
    "DATA_DIR = \"../data/csv\"\n",
    "OUTPUT_DIR = \"../manualoutputs\""
   ]
  },
  {
   "cell_type": "code",
   "execution_count": null,
   "id": "12f0341f-58a1-4932-bcb1-9a47de055564",
   "metadata": {},
   "outputs": [],
   "source": [
    "from manual_pipeline import run_pipeline\n",
    "run_pipeline(data_dir=DATA_DIR, output_dir=OUTPUT_DIR, A=110, B=25)"
   ]
  }
 ],
 "metadata": {
  "kernelspec": {
   "display_name": "Python 3 (ipykernel)",
   "language": "python",
   "name": "python3"
  },
  "language_info": {
   "codemirror_mode": {
    "name": "ipython",
    "version": 3
   },
   "file_extension": ".py",
   "mimetype": "text/x-python",
   "name": "python",
   "nbconvert_exporter": "python",
   "pygments_lexer": "ipython3",
   "version": "3.11.8"
  }
 },
 "nbformat": 4,
 "nbformat_minor": 5
}
